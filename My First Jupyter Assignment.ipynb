{
 "cells": [
  {
   "cell_type": "markdown",
   "id": "4a3bd45e-0bb5-4744-9749-4733c4b8c671",
   "metadata": {},
   "source": [
    "# My Jupyter Notebook on IBM Watson Studio"
   ]
  },
  {
   "cell_type": "markdown",
   "id": "abb1e3bd-4dd4-4931-86ff-536a2a50aced",
   "metadata": {},
   "source": [
    "__Joseph D'Onofrio__ <br> Data Analyst"
   ]
  },
  {
   "cell_type": "markdown",
   "id": "ff7b0e88-e18a-4f06-bf8c-ddbef03279c5",
   "metadata": {},
   "source": [
    "_I am interested in data science because I believe it is a great way to learn new things about our world. Using data analysis we can understand more about our world, the people, creatures and things in it. Using this knowledge we can hopefully create new technologies to benefit our planet and all living the things we share it with_"
   ]
  },
  {
   "cell_type": "markdown",
   "id": "29399c99-6aa2-4a36-af3e-1fdc24440769",
   "metadata": {},
   "source": [
    "### My code on the next line will calculate 4 * 7 and show that it is equal to 28"
   ]
  },
  {
   "cell_type": "code",
   "execution_count": 1,
   "id": "b2ba0b89-2f8c-4add-a8ba-8fad0e18a47f",
   "metadata": {},
   "outputs": [
    {
     "data": {
      "text/plain": [
       "28"
      ]
     },
     "execution_count": 1,
     "metadata": {},
     "output_type": "execute_result"
    }
   ],
   "source": [
    "4*7"
   ]
  },
  {
   "cell_type": "markdown",
   "id": "a7eaf92c-4fe2-4f42-befc-2f9b735afe12",
   "metadata": {},
   "source": [
    "- this \n",
    "- is \n",
    "- one \n",
    "- requirement\n",
    "1. and\n",
    "2. this \n",
    "3. is \n",
    "4. the \n",
    "5. second\n",
    "6. requirement\n",
    "\n",
    "|table|for|final|requirement|\n",
    "|------|------|------|------|\n",
    "|sample|data|goes|here|\n",
    "|hope|you|enjoyed|this|"
   ]
  },
  {
   "cell_type": "code",
   "execution_count": null,
   "id": "6dcf8092-28f3-4b8a-94f7-5580bdd48149",
   "metadata": {},
   "outputs": [],
   "source": []
  }
 ],
 "metadata": {
  "kernelspec": {
   "display_name": "Python",
   "language": "python",
   "name": "conda-env-python-py"
  },
  "language_info": {
   "codemirror_mode": {
    "name": "ipython",
    "version": 3
   },
   "file_extension": ".py",
   "mimetype": "text/x-python",
   "name": "python",
   "nbconvert_exporter": "python",
   "pygments_lexer": "ipython3",
   "version": "3.7.12"
  }
 },
 "nbformat": 4,
 "nbformat_minor": 5
}
