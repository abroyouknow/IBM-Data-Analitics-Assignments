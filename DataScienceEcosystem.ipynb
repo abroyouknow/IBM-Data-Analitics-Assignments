{
 "cells": [
  {
   "cell_type": "markdown",
   "id": "cf63169c-ce1b-4fed-8b9b-c62a25b1340b",
   "metadata": {},
   "source": [
    "# Data Science Tools and Ecosystem"
   ]
  },
  {
   "cell_type": "markdown",
   "id": "80d11e24-7e9c-4b96-b4fa-f55fd50b5e71",
   "metadata": {},
   "source": [
    "In this notebook, Data Science Tools and Ecosystem are summarized."
   ]
  },
  {
   "cell_type": "markdown",
   "id": "6ebd61d4-fdf7-4ef9-a589-e36a887a44dc",
   "metadata": {},
   "source": [
    "### Some of the popular languages that Data Scientists use are:\n",
    "1. Python\n",
    "2. R\n",
    "3. SQL\n",
    "4. Scala\n",
    "5. Julia"
   ]
  },
  {
   "cell_type": "markdown",
   "id": "dd5db103-7a9a-4076-9a59-2bf8a88e8c32",
   "metadata": {},
   "source": [
    "### Some of the commonly used libraries used by Data Scientists include:\n",
    "1. Pandas\n",
    "2. NumPy\n",
    "3. MathPlotlib\n",
    "4. Seaborn\n",
    "5. Scikit-learn\n",
    "6. Keras\n",
    "7. TensorFlow\n",
    "8. PyTorch"
   ]
  },
  {
   "cell_type": "markdown",
   "id": "4af6c1f5-c979-48cc-a573-b7ca0d5a9ce1",
   "metadata": {},
   "source": [
    "|Data Science Tools|\n",
    "|------|\n",
    "|Jupyter|\n",
    "|RStudio|\n",
    "|Apache Zeppelin|\n"
   ]
  },
  {
   "cell_type": "markdown",
   "id": "fcef4561-df5d-47a0-93b9-89473f7970f5",
   "metadata": {},
   "source": [
    "### Below are a few examples of evaluating arithmetic expressions in Python"
   ]
  },
  {
   "cell_type": "code",
   "execution_count": 5,
   "id": "9a46e907-952f-4acd-86a7-10ed03c6f675",
   "metadata": {},
   "outputs": [
    {
     "data": {
      "text/plain": [
       "17"
      ]
     },
     "execution_count": 5,
     "metadata": {},
     "output_type": "execute_result"
    }
   ],
   "source": [
    "# This is a simple arithmetic expression to multiply then add integers\n",
    "(3*4)+5"
   ]
  },
  {
   "cell_type": "code",
   "execution_count": 6,
   "id": "8be873f6-2145-41c8-9c77-98eba638692a",
   "metadata": {},
   "outputs": [
    {
     "name": "stdout",
     "output_type": "stream",
     "text": [
      "3.3333333333333335\n"
     ]
    }
   ],
   "source": [
    "# This will convert 200 minutes into hours by dividing by 60\n",
    "minutes = 200\n",
    "hours = minutes / 60\n",
    "print(hours)"
   ]
  },
  {
   "cell_type": "markdown",
   "id": "8a35d113-64d1-4aa6-af09-32b041d1da99",
   "metadata": {},
   "source": [
    "__Objectives:__\n",
    "- add notebook title\n",
    "- add notebokk intro\n",
    "- list data science languages & libraries\n",
    "- make a table of data science tools\n",
    "- write code to multiply and add numbers\n",
    "- write code to convert minutes to hours"
   ]
  },
  {
   "cell_type": "markdown",
   "id": "e68d1095-a677-4c61-8ff6-b96ae93593bb",
   "metadata": {},
   "source": [
    "##Author## <br>Joseph D'Onofrio"
   ]
  },
  {
   "cell_type": "code",
   "execution_count": null,
   "id": "51d965f6-ed37-4ea3-88e7-4479a77e3f20",
   "metadata": {},
   "outputs": [],
   "source": []
  }
 ],
 "metadata": {
  "kernelspec": {
   "display_name": "Python",
   "language": "python",
   "name": "conda-env-python-py"
  },
  "language_info": {
   "codemirror_mode": {
    "name": "ipython",
    "version": 3
   },
   "file_extension": ".py",
   "mimetype": "text/x-python",
   "name": "python",
   "nbconvert_exporter": "python",
   "pygments_lexer": "ipython3",
   "version": "3.7.12"
  }
 },
 "nbformat": 4,
 "nbformat_minor": 5
}
